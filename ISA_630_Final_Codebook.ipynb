{
  "nbformat": 4,
  "nbformat_minor": 0,
  "metadata": {
    "colab": {
      "provenance": [],
      "gpuType": "T4"
    },
    "kernelspec": {
      "name": "python3",
      "display_name": "Python 3"
    },
    "language_info": {
      "name": "python"
    },
    "accelerator": "GPU"
  },
  "cells": [
    {
      "cell_type": "markdown",
      "source": [
        "## **ISA 630 Final Project**"
      ],
      "metadata": {
        "id": "F7wGW89oj2CJ"
      }
    },
    {
      "cell_type": "code",
      "execution_count": null,
      "metadata": {
        "colab": {
          "base_uri": "https://localhost:8080/",
          "height": 255
        },
        "id": "j798AaWCjsCe",
        "outputId": "0d736bc3-9ec9-4820-9ee9-502f01540885"
      },
      "outputs": [
        {
          "output_type": "stream",
          "name": "stderr",
          "text": [
            "\r[*********************100%%**********************]  1 of 1 completed\n"
          ]
        },
        {
          "output_type": "execute_result",
          "data": {
            "text/plain": [
              "                 Open       High        Low      Close  Adj Close    Volume\n",
              "Date                                                                       \n",
              "2015-01-02  36.669998  37.160000  36.110001  36.360001  28.073423  23605600\n",
              "2015-01-05  36.200001  36.450001  35.939999  35.950001  27.756859  32785000\n",
              "2015-01-06  36.080002  36.230000  35.259998  35.279999  27.239555  30847600\n",
              "2015-01-07  35.639999  36.070000  35.270000  36.020000  27.810907  27725200\n",
              "2015-01-08  36.369999  37.000000  36.259998  36.689999  28.328213  31765400"
            ],
            "text/html": [
              "\n",
              "  <div id=\"df-75267d4d-c56d-4195-995d-17827f28406d\" class=\"colab-df-container\">\n",
              "    <div>\n",
              "<style scoped>\n",
              "    .dataframe tbody tr th:only-of-type {\n",
              "        vertical-align: middle;\n",
              "    }\n",
              "\n",
              "    .dataframe tbody tr th {\n",
              "        vertical-align: top;\n",
              "    }\n",
              "\n",
              "    .dataframe thead th {\n",
              "        text-align: right;\n",
              "    }\n",
              "</style>\n",
              "<table border=\"1\" class=\"dataframe\">\n",
              "  <thead>\n",
              "    <tr style=\"text-align: right;\">\n",
              "      <th></th>\n",
              "      <th>Open</th>\n",
              "      <th>High</th>\n",
              "      <th>Low</th>\n",
              "      <th>Close</th>\n",
              "      <th>Adj Close</th>\n",
              "      <th>Volume</th>\n",
              "    </tr>\n",
              "    <tr>\n",
              "      <th>Date</th>\n",
              "      <th></th>\n",
              "      <th></th>\n",
              "      <th></th>\n",
              "      <th></th>\n",
              "      <th></th>\n",
              "      <th></th>\n",
              "    </tr>\n",
              "  </thead>\n",
              "  <tbody>\n",
              "    <tr>\n",
              "      <th>2015-01-02</th>\n",
              "      <td>36.669998</td>\n",
              "      <td>37.160000</td>\n",
              "      <td>36.110001</td>\n",
              "      <td>36.360001</td>\n",
              "      <td>28.073423</td>\n",
              "      <td>23605600</td>\n",
              "    </tr>\n",
              "    <tr>\n",
              "      <th>2015-01-05</th>\n",
              "      <td>36.200001</td>\n",
              "      <td>36.450001</td>\n",
              "      <td>35.939999</td>\n",
              "      <td>35.950001</td>\n",
              "      <td>27.756859</td>\n",
              "      <td>32785000</td>\n",
              "    </tr>\n",
              "    <tr>\n",
              "      <th>2015-01-06</th>\n",
              "      <td>36.080002</td>\n",
              "      <td>36.230000</td>\n",
              "      <td>35.259998</td>\n",
              "      <td>35.279999</td>\n",
              "      <td>27.239555</td>\n",
              "      <td>30847600</td>\n",
              "    </tr>\n",
              "    <tr>\n",
              "      <th>2015-01-07</th>\n",
              "      <td>35.639999</td>\n",
              "      <td>36.070000</td>\n",
              "      <td>35.270000</td>\n",
              "      <td>36.020000</td>\n",
              "      <td>27.810907</td>\n",
              "      <td>27725200</td>\n",
              "    </tr>\n",
              "    <tr>\n",
              "      <th>2015-01-08</th>\n",
              "      <td>36.369999</td>\n",
              "      <td>37.000000</td>\n",
              "      <td>36.259998</td>\n",
              "      <td>36.689999</td>\n",
              "      <td>28.328213</td>\n",
              "      <td>31765400</td>\n",
              "    </tr>\n",
              "  </tbody>\n",
              "</table>\n",
              "</div>\n",
              "    <div class=\"colab-df-buttons\">\n",
              "\n",
              "  <div class=\"colab-df-container\">\n",
              "    <button class=\"colab-df-convert\" onclick=\"convertToInteractive('df-75267d4d-c56d-4195-995d-17827f28406d')\"\n",
              "            title=\"Convert this dataframe to an interactive table.\"\n",
              "            style=\"display:none;\">\n",
              "\n",
              "  <svg xmlns=\"http://www.w3.org/2000/svg\" height=\"24px\" viewBox=\"0 -960 960 960\">\n",
              "    <path d=\"M120-120v-720h720v720H120Zm60-500h600v-160H180v160Zm220 220h160v-160H400v160Zm0 220h160v-160H400v160ZM180-400h160v-160H180v160Zm440 0h160v-160H620v160ZM180-180h160v-160H180v160Zm440 0h160v-160H620v160Z\"/>\n",
              "  </svg>\n",
              "    </button>\n",
              "\n",
              "  <style>\n",
              "    .colab-df-container {\n",
              "      display:flex;\n",
              "      gap: 12px;\n",
              "    }\n",
              "\n",
              "    .colab-df-convert {\n",
              "      background-color: #E8F0FE;\n",
              "      border: none;\n",
              "      border-radius: 50%;\n",
              "      cursor: pointer;\n",
              "      display: none;\n",
              "      fill: #1967D2;\n",
              "      height: 32px;\n",
              "      padding: 0 0 0 0;\n",
              "      width: 32px;\n",
              "    }\n",
              "\n",
              "    .colab-df-convert:hover {\n",
              "      background-color: #E2EBFA;\n",
              "      box-shadow: 0px 1px 2px rgba(60, 64, 67, 0.3), 0px 1px 3px 1px rgba(60, 64, 67, 0.15);\n",
              "      fill: #174EA6;\n",
              "    }\n",
              "\n",
              "    .colab-df-buttons div {\n",
              "      margin-bottom: 4px;\n",
              "    }\n",
              "\n",
              "    [theme=dark] .colab-df-convert {\n",
              "      background-color: #3B4455;\n",
              "      fill: #D2E3FC;\n",
              "    }\n",
              "\n",
              "    [theme=dark] .colab-df-convert:hover {\n",
              "      background-color: #434B5C;\n",
              "      box-shadow: 0px 1px 3px 1px rgba(0, 0, 0, 0.15);\n",
              "      filter: drop-shadow(0px 1px 2px rgba(0, 0, 0, 0.3));\n",
              "      fill: #FFFFFF;\n",
              "    }\n",
              "  </style>\n",
              "\n",
              "    <script>\n",
              "      const buttonEl =\n",
              "        document.querySelector('#df-75267d4d-c56d-4195-995d-17827f28406d button.colab-df-convert');\n",
              "      buttonEl.style.display =\n",
              "        google.colab.kernel.accessAllowed ? 'block' : 'none';\n",
              "\n",
              "      async function convertToInteractive(key) {\n",
              "        const element = document.querySelector('#df-75267d4d-c56d-4195-995d-17827f28406d');\n",
              "        const dataTable =\n",
              "          await google.colab.kernel.invokeFunction('convertToInteractive',\n",
              "                                                    [key], {});\n",
              "        if (!dataTable) return;\n",
              "\n",
              "        const docLinkHtml = 'Like what you see? Visit the ' +\n",
              "          '<a target=\"_blank\" href=https://colab.research.google.com/notebooks/data_table.ipynb>data table notebook</a>'\n",
              "          + ' to learn more about interactive tables.';\n",
              "        element.innerHTML = '';\n",
              "        dataTable['output_type'] = 'display_data';\n",
              "        await google.colab.output.renderOutput(dataTable, element);\n",
              "        const docLink = document.createElement('div');\n",
              "        docLink.innerHTML = docLinkHtml;\n",
              "        element.appendChild(docLink);\n",
              "      }\n",
              "    </script>\n",
              "  </div>\n",
              "\n",
              "\n",
              "<div id=\"df-12005013-cb1a-427e-84f5-158eb7eaf5c7\">\n",
              "  <button class=\"colab-df-quickchart\" onclick=\"quickchart('df-12005013-cb1a-427e-84f5-158eb7eaf5c7')\"\n",
              "            title=\"Suggest charts\"\n",
              "            style=\"display:none;\">\n",
              "\n",
              "<svg xmlns=\"http://www.w3.org/2000/svg\" height=\"24px\"viewBox=\"0 0 24 24\"\n",
              "     width=\"24px\">\n",
              "    <g>\n",
              "        <path d=\"M19 3H5c-1.1 0-2 .9-2 2v14c0 1.1.9 2 2 2h14c1.1 0 2-.9 2-2V5c0-1.1-.9-2-2-2zM9 17H7v-7h2v7zm4 0h-2V7h2v10zm4 0h-2v-4h2v4z\"/>\n",
              "    </g>\n",
              "</svg>\n",
              "  </button>\n",
              "\n",
              "<style>\n",
              "  .colab-df-quickchart {\n",
              "      --bg-color: #E8F0FE;\n",
              "      --fill-color: #1967D2;\n",
              "      --hover-bg-color: #E2EBFA;\n",
              "      --hover-fill-color: #174EA6;\n",
              "      --disabled-fill-color: #AAA;\n",
              "      --disabled-bg-color: #DDD;\n",
              "  }\n",
              "\n",
              "  [theme=dark] .colab-df-quickchart {\n",
              "      --bg-color: #3B4455;\n",
              "      --fill-color: #D2E3FC;\n",
              "      --hover-bg-color: #434B5C;\n",
              "      --hover-fill-color: #FFFFFF;\n",
              "      --disabled-bg-color: #3B4455;\n",
              "      --disabled-fill-color: #666;\n",
              "  }\n",
              "\n",
              "  .colab-df-quickchart {\n",
              "    background-color: var(--bg-color);\n",
              "    border: none;\n",
              "    border-radius: 50%;\n",
              "    cursor: pointer;\n",
              "    display: none;\n",
              "    fill: var(--fill-color);\n",
              "    height: 32px;\n",
              "    padding: 0;\n",
              "    width: 32px;\n",
              "  }\n",
              "\n",
              "  .colab-df-quickchart:hover {\n",
              "    background-color: var(--hover-bg-color);\n",
              "    box-shadow: 0 1px 2px rgba(60, 64, 67, 0.3), 0 1px 3px 1px rgba(60, 64, 67, 0.15);\n",
              "    fill: var(--button-hover-fill-color);\n",
              "  }\n",
              "\n",
              "  .colab-df-quickchart-complete:disabled,\n",
              "  .colab-df-quickchart-complete:disabled:hover {\n",
              "    background-color: var(--disabled-bg-color);\n",
              "    fill: var(--disabled-fill-color);\n",
              "    box-shadow: none;\n",
              "  }\n",
              "\n",
              "  .colab-df-spinner {\n",
              "    border: 2px solid var(--fill-color);\n",
              "    border-color: transparent;\n",
              "    border-bottom-color: var(--fill-color);\n",
              "    animation:\n",
              "      spin 1s steps(1) infinite;\n",
              "  }\n",
              "\n",
              "  @keyframes spin {\n",
              "    0% {\n",
              "      border-color: transparent;\n",
              "      border-bottom-color: var(--fill-color);\n",
              "      border-left-color: var(--fill-color);\n",
              "    }\n",
              "    20% {\n",
              "      border-color: transparent;\n",
              "      border-left-color: var(--fill-color);\n",
              "      border-top-color: var(--fill-color);\n",
              "    }\n",
              "    30% {\n",
              "      border-color: transparent;\n",
              "      border-left-color: var(--fill-color);\n",
              "      border-top-color: var(--fill-color);\n",
              "      border-right-color: var(--fill-color);\n",
              "    }\n",
              "    40% {\n",
              "      border-color: transparent;\n",
              "      border-right-color: var(--fill-color);\n",
              "      border-top-color: var(--fill-color);\n",
              "    }\n",
              "    60% {\n",
              "      border-color: transparent;\n",
              "      border-right-color: var(--fill-color);\n",
              "    }\n",
              "    80% {\n",
              "      border-color: transparent;\n",
              "      border-right-color: var(--fill-color);\n",
              "      border-bottom-color: var(--fill-color);\n",
              "    }\n",
              "    90% {\n",
              "      border-color: transparent;\n",
              "      border-bottom-color: var(--fill-color);\n",
              "    }\n",
              "  }\n",
              "</style>\n",
              "\n",
              "  <script>\n",
              "    async function quickchart(key) {\n",
              "      const quickchartButtonEl =\n",
              "        document.querySelector('#' + key + ' button');\n",
              "      quickchartButtonEl.disabled = true;  // To prevent multiple clicks.\n",
              "      quickchartButtonEl.classList.add('colab-df-spinner');\n",
              "      try {\n",
              "        const charts = await google.colab.kernel.invokeFunction(\n",
              "            'suggestCharts', [key], {});\n",
              "      } catch (error) {\n",
              "        console.error('Error during call to suggestCharts:', error);\n",
              "      }\n",
              "      quickchartButtonEl.classList.remove('colab-df-spinner');\n",
              "      quickchartButtonEl.classList.add('colab-df-quickchart-complete');\n",
              "    }\n",
              "    (() => {\n",
              "      let quickchartButtonEl =\n",
              "        document.querySelector('#df-12005013-cb1a-427e-84f5-158eb7eaf5c7 button');\n",
              "      quickchartButtonEl.style.display =\n",
              "        google.colab.kernel.accessAllowed ? 'block' : 'none';\n",
              "    })();\n",
              "  </script>\n",
              "</div>\n",
              "    </div>\n",
              "  </div>\n"
            ],
            "application/vnd.google.colaboratory.intrinsic+json": {
              "type": "dataframe",
              "variable_name": "df",
              "summary": "{\n  \"name\": \"df\",\n  \"rows\": 2350,\n  \"fields\": [\n    {\n      \"column\": \"Date\",\n      \"properties\": {\n        \"dtype\": \"date\",\n        \"min\": \"2015-01-02 00:00:00\",\n        \"max\": \"2024-05-03 00:00:00\",\n        \"num_unique_values\": 2350,\n        \"samples\": [\n          \"2020-07-20 00:00:00\",\n          \"2017-08-28 00:00:00\",\n          \"2022-12-15 00:00:00\"\n        ],\n        \"semantic_type\": \"\",\n        \"description\": \"\"\n      }\n    },\n    {\n      \"column\": \"Open\",\n      \"properties\": {\n        \"dtype\": \"number\",\n        \"std\": 10.307389964243297,\n        \"min\": 24.729999542236328,\n        \"max\": 68.19999694824219,\n        \"num_unique_values\": 1629,\n        \"samples\": [\n          48.2400016784668,\n          31.8799991607666,\n          46.209999084472656\n        ],\n        \"semantic_type\": \"\",\n        \"description\": \"\"\n      }\n    },\n    {\n      \"column\": \"High\",\n      \"properties\": {\n        \"dtype\": \"number\",\n        \"std\": 10.43914207262836,\n        \"min\": 25.1200008392334,\n        \"max\": 69.29000091552734,\n        \"num_unique_values\": 1643,\n        \"samples\": [\n          48.119998931884766,\n          45.459999084472656,\n          48.65999984741211\n        ],\n        \"semantic_type\": \"\",\n        \"description\": \"\"\n      }\n    },\n    {\n      \"column\": \"Low\",\n      \"properties\": {\n        \"dtype\": \"number\",\n        \"std\": 10.169016936671827,\n        \"min\": 24.59000015258789,\n        \"max\": 67.30999755859375,\n        \"num_unique_values\": 1631,\n        \"samples\": [\n          46.220001220703125,\n          55.869998931884766,\n          29.329999923706055\n        ],\n        \"semantic_type\": \"\",\n        \"description\": \"\"\n      }\n    },\n    {\n      \"column\": \"Close\",\n      \"properties\": {\n        \"dtype\": \"number\",\n        \"std\": 10.302200946008275,\n        \"min\": 24.899999618530273,\n        \"max\": 68.47000122070312,\n        \"num_unique_values\": 1642,\n        \"samples\": [\n          48.099998474121094,\n          47.56999969482422,\n          67.41000366210938\n        ],\n        \"semantic_type\": \"\",\n        \"description\": \"\"\n      }\n    },\n    {\n      \"column\": \"Adj Close\",\n      \"properties\": {\n        \"dtype\": \"number\",\n        \"std\": 9.938988990896545,\n        \"min\": 20.431201934814453,\n        \"max\": 62.477169036865234,\n        \"num_unique_values\": 2227,\n        \"samples\": [\n          24.88429832458496,\n          31.20307731628418,\n          51.278236389160156\n        ],\n        \"semantic_type\": \"\",\n        \"description\": \"\"\n      }\n    },\n    {\n      \"column\": \"Volume\",\n      \"properties\": {\n        \"dtype\": \"number\",\n        \"std\": 15508949,\n        \"min\": 5893800,\n        \"max\": 182269900,\n        \"num_unique_values\": 2347,\n        \"samples\": [\n          29045800,\n          20712900,\n          58546800\n        ],\n        \"semantic_type\": \"\",\n        \"description\": \"\"\n      }\n    }\n  ]\n}"
            }
          },
          "metadata": {},
          "execution_count": 19
        }
      ],
      "source": [
        "##  Stock Price\n",
        "## Ticker: TSLA\n",
        "import yfinance as yf\n",
        "\n",
        "df = yf.download('INTC', start = '2015-01-01', end = '2024-05-06')\n",
        "df.head()"
      ]
    },
    {
      "cell_type": "code",
      "source": [
        "## plot\n",
        "df['Close'].plot()"
      ],
      "metadata": {
        "colab": {
          "base_uri": "https://localhost:8080/",
          "height": 440
        },
        "id": "liXIU-tLkHLv",
        "outputId": "5ea7f7c1-3183-413c-9230-ca4dd26da70b"
      },
      "execution_count": null,
      "outputs": [
        {
          "output_type": "execute_result",
          "data": {
            "text/plain": [
              "<Axes: xlabel='Date'>"
            ]
          },
          "metadata": {},
          "execution_count": 20
        },
        {
          "output_type": "display_data",
          "data": {
            "text/plain": [
              "<Figure size 640x480 with 1 Axes>"
            ],
            "image/png": "[encoded data removed]"
          },
          "metadata": {}
        }
      ]
    },
    {
      "cell_type": "markdown",
      "source": [
        "## **Preprocessing**\n",
        "\n",
        "We need to proccess the data so it can be fit to the model with the following steps.\n",
        "\n",
        "- Train/test split; This is not a random split because this is a time series problem. Rather we need to use a historical section of data, say from the start until the end of 2024, to predict a later section of the data, say the stock price each day in 2024.\n",
        "- Scaling; We need to scale the values. Since we are using a neural network, this prevents the vanishing gradient or exploding gradient effect from occuring.\n",
        "- Feature Engineering; we need to establish our lagged variables to act as the features in the RNN."
      ],
      "metadata": {
        "id": "IVEWYzf2kVze"
      }
    },
    {
      "cell_type": "code",
      "source": [
        "## train/test split\n",
        "train = df['Close'][:'2023-12-31'] ## From Start of Data to 2024\n",
        "test = df['Close']['2024-01-01':] ## 2024 Data"
      ],
      "metadata": {
        "id": "WlPYxxSDkL25"
      },
      "execution_count": null,
      "outputs": []
    },
    {
      "cell_type": "code",
      "source": [
        "## Scaling\n",
        "\n",
        "## standardize the data\n",
        "## to avoid the vanishing gradient or exploding gradient effect\n",
        "from sklearn.preprocessing import StandardScaler\n",
        "\n",
        "scaler = StandardScaler()\n",
        "scaler.fit(train.values.reshape(-1,1))\n",
        "\n",
        "scaled_train = scaler.transform(train.values.reshape(-1,1))\n",
        "scaled_test = scaler.transform(test.values.reshape(-1,1))"
      ],
      "metadata": {
        "id": "aPNEZv5PkTK0"
      },
      "execution_count": null,
      "outputs": []
    },
    {
      "cell_type": "code",
      "source": [
        "## this creates our lags (X_train, y_train)\n",
        "\n",
        "import numpy as np\n",
        "def split_sequence(sequence, n_steps):\n",
        " X, y = list(), list()\n",
        " for i in range(len(sequence)):\n",
        " # find the end of this pattern\n",
        "  end_ix = i + n_steps\n",
        " # check if we are beyond the sequence\n",
        "  if end_ix > len(sequence)-1:\n",
        "    break\n",
        " # gather input and output parts of the pattern\n",
        "  seq_x, seq_y = sequence[i:end_ix], sequence[end_ix]\n",
        "  X.append(seq_x)\n",
        "  y.append(seq_y)\n",
        " return np.array(X), np.array(y)"
      ],
      "metadata": {
        "id": "BbPM1BfTlDm3"
      },
      "execution_count": null,
      "outputs": []
    },
    {
      "cell_type": "code",
      "source": [
        "## X_train and y_train\n",
        "X_train, y_train = split_sequence(scaled_train, 3) ## 3 lags\n",
        "X_test, y_test = split_sequence(scaled_test, 3) ## 3 lags"
      ],
      "metadata": {
        "id": "MJc9dm5nlKRq"
      },
      "execution_count": null,
      "outputs": []
    },
    {
      "cell_type": "markdown",
      "source": [
        "### **Recurrent Neural Network**"
      ],
      "metadata": {
        "id": "8tv44xZVl8bI"
      }
    },
    {
      "cell_type": "code",
      "source": [
        "## RNN Architecture\n",
        "from tensorflow.keras import Sequential\n",
        "from tensorflow.keras.layers import SimpleRNN, Dense  ## For project we can also use the LSTM, or a GRU. Code is exactly the same, just use the corresponding layer\n",
        "\n",
        "rnn = Sequential()\n",
        "rnn.add(SimpleRNN(units = 60, input_shape = (3,1), activation = 'relu', return_sequences = True))  ## input shape is (lags, 1). In this example its (5,1)\n",
        "rnn.add(SimpleRNN(units = 30, activation = 'relu', return_sequences = True))\n",
        "rnn.add(SimpleRNN(units = 20, activation = 'relu', return_sequences = True))\n",
        "rnn.add(SimpleRNN(units = 15, activation = 'relu')) ## we are not returning sequences (default is False), because it is the last RNN layer\n",
        "rnn.add(Dense(60, activation ='relu'))\n",
        "rnn.add(Dense(30, activation = 'relu'))\n",
        "rnn.add(Dense(1)) ## default is linear, which is nessecary for this problem."
      ],
      "metadata": {
        "id": "3YF_Jh6VlMtw"
      },
      "execution_count": null,
      "outputs": []
    },
    {
      "cell_type": "code",
      "source": [
        "## compile\n",
        "rnn.compile(optimizer = 'adam', loss = 'mse')\n",
        "\n",
        "## callback\n",
        "from tensorflow.keras.callbacks import EarlyStopping\n",
        "early_stop = EarlyStopping(monitor = 'val_loss', patience = 10)\n",
        "\n",
        "## fit\n",
        "rnn.fit(X_train, y_train, epochs = 100, batch_size = 100, validation_data = [X_test, y_test], callbacks = early_stop)"
      ],
      "metadata": {
        "colab": {
          "base_uri": "https://localhost:8080/"
        },
        "id": "9Un6oA0imAS4",
        "outputId": "1857e7cf-7648-4854-cdfb-9ca5dda3c871"
      },
      "execution_count": null,
      "outputs": [
        {
          "output_type": "stream",
          "name": "stdout",
          "text": [
            "Epoch 1/100\n",
            "23/23 [==============================] - 11s 34ms/step - loss: 0.3418 - val_loss: 0.0500\n",
            "Epoch 2/100\n",
            "23/23 [==============================] - 0s 16ms/step - loss: 0.0282 - val_loss: 0.0289\n",
            "Epoch 3/100\n",
            "23/23 [==============================] - 1s 32ms/step - loss: 0.0170 - val_loss: 0.0215\n",
            "Epoch 4/100\n",
            "23/23 [==============================] - 1s 42ms/step - loss: 0.0137 - val_loss: 0.0192\n",
            "Epoch 5/100\n",
            "23/23 [==============================] - 1s 33ms/step - loss: 0.0128 - val_loss: 0.0167\n",
            "Epoch 6/100\n",
            "23/23 [==============================] - 1s 35ms/step - loss: 0.0120 - val_loss: 0.0163\n",
            "Epoch 7/100\n",
            "23/23 [==============================] - 1s 34ms/step - loss: 0.0114 - val_loss: 0.0158\n",
            "Epoch 8/100\n",
            "23/23 [==============================] - 1s 34ms/step - loss: 0.0110 - val_loss: 0.0158\n",
            "Epoch 9/100\n",
            "23/23 [==============================] - 1s 42ms/step - loss: 0.0106 - val_loss: 0.0136\n",
            "Epoch 10/100\n",
            "23/23 [==============================] - 1s 31ms/step - loss: 0.0099 - val_loss: 0.0147\n",
            "Epoch 11/100\n",
            "23/23 [==============================] - 1s 32ms/step - loss: 0.0098 - val_loss: 0.0139\n",
            "Epoch 12/100\n",
            "23/23 [==============================] - 1s 30ms/step - loss: 0.0091 - val_loss: 0.0141\n",
            "Epoch 13/100\n",
            "23/23 [==============================] - 1s 31ms/step - loss: 0.0094 - val_loss: 0.0148\n",
            "Epoch 14/100\n",
            "23/23 [==============================] - 1s 28ms/step - loss: 0.0098 - val_loss: 0.0137\n",
            "Epoch 15/100\n",
            "23/23 [==============================] - 0s 15ms/step - loss: 0.0091 - val_loss: 0.0151\n",
            "Epoch 16/100\n",
            "23/23 [==============================] - 0s 16ms/step - loss: 0.0092 - val_loss: 0.0136\n",
            "Epoch 17/100\n",
            "23/23 [==============================] - 0s 15ms/step - loss: 0.0091 - val_loss: 0.0132\n",
            "Epoch 18/100\n",
            "23/23 [==============================] - 0s 16ms/step - loss: 0.0090 - val_loss: 0.0142\n",
            "Epoch 19/100\n",
            "23/23 [==============================] - 0s 15ms/step - loss: 0.0088 - val_loss: 0.0140\n",
            "Epoch 20/100\n",
            "23/23 [==============================] - 0s 15ms/step - loss: 0.0088 - val_loss: 0.0131\n",
            "Epoch 21/100\n",
            "23/23 [==============================] - 0s 16ms/step - loss: 0.0084 - val_loss: 0.0124\n",
            "Epoch 22/100\n",
            "23/23 [==============================] - 0s 16ms/step - loss: 0.0095 - val_loss: 0.0138\n",
            "Epoch 23/100\n",
            "23/23 [==============================] - 0s 15ms/step - loss: 0.0090 - val_loss: 0.0144\n",
            "Epoch 24/100\n",
            "23/23 [==============================] - 0s 16ms/step - loss: 0.0088 - val_loss: 0.0137\n",
            "Epoch 25/100\n",
            "23/23 [==============================] - 0s 15ms/step - loss: 0.0084 - val_loss: 0.0139\n",
            "Epoch 26/100\n",
            "23/23 [==============================] - 0s 15ms/step - loss: 0.0087 - val_loss: 0.0138\n",
            "Epoch 27/100\n",
            "23/23 [==============================] - 0s 16ms/step - loss: 0.0092 - val_loss: 0.0134\n",
            "Epoch 28/100\n",
            "23/23 [==============================] - 0s 15ms/step - loss: 0.0088 - val_loss: 0.0134\n",
            "Epoch 29/100\n",
            "23/23 [==============================] - 0s 15ms/step - loss: 0.0084 - val_loss: 0.0128\n",
            "Epoch 30/100\n",
            "23/23 [==============================] - 0s 15ms/step - loss: 0.0091 - val_loss: 0.0146\n",
            "Epoch 31/100\n",
            "23/23 [==============================] - 0s 15ms/step - loss: 0.0091 - val_loss: 0.0129\n"
          ]
        },
        {
          "output_type": "execute_result",
          "data": {
            "text/plain": [
              "<keras.src.callbacks.History at 0x7ea2503c28f0>"
            ]
          },
          "metadata": {},
          "execution_count": 26
        }
      ]
    },
    {
      "cell_type": "code",
      "source": [
        "## predictions\n",
        "predictions = scaler.inverse_transform(rnn.predict(X_test))"
      ],
      "metadata": {
        "colab": {
          "base_uri": "https://localhost:8080/"
        },
        "id": "u8alYuUMmRnX",
        "outputId": "db80cd66-4775-47c4-e47a-734e040e51ba"
      },
      "execution_count": null,
      "outputs": [
        {
          "output_type": "stream",
          "name": "stdout",
          "text": [
            "3/3 [==============================] - 0s 5ms/step\n"
          ]
        }
      ]
    },
    {
      "cell_type": "code",
      "source": [
        "true = scaler.inverse_transform(y_test)\n",
        "y_previous = df['Close']['2024-01-01':].shift(-1).dropna()\n",
        "y_test_trimmed = true[:len(y_previous)]\n",
        "\n",
        "# Now calculate the MSE and R-squared\n",
        "mse = mean_squared_error(y_test_trimmed, y_previous, squared=False)\n",
        "r_squared = r2_score(y_test_trimmed, y_previous)\n",
        "\n",
        "# Print the results\n",
        "print(f'The MSE is: {mse}')\n",
        "print(f'The R-squared is: {r_squared}')"
      ],
      "metadata": {
        "id": "PVbUUpS67BhC",
        "colab": {
          "base_uri": "https://localhost:8080/"
        },
        "outputId": "03baf2e7-7a1b-4740-a3b7-0b4cd9a2de65"
      },
      "execution_count": null,
      "outputs": [
        {
          "output_type": "stream",
          "name": "stdout",
          "text": [
            "The MSE is: 1.164062870146414\n",
            "The R-squared is: 0.938664452945072\n"
          ]
        }
      ]
    },
    {
      "cell_type": "code",
      "source": [
        " ## PERFORMANCE METRICS\n",
        "from sklearn.metrics import mean_squared_error, r2_score\n",
        "import matplotlib.pyplot as plt\n",
        "import pandas as pd\n",
        "\n",
        "print(f'The MSE is: {mean_squared_error(true, predictions, squared = False)}')\n",
        "print(f'The R-squared is: {r2_score(true, predictions)}')\n",
        "\n",
        "plt.figure(figsize = (10,6))\n",
        "plt.plot(true)\n",
        "plt.plot(pd.DataFrame(predictions))"
      ],
      "metadata": {
        "colab": {
          "base_uri": "https://localhost:8080/",
          "height": 574
        },
        "id": "Bnt-zdEymwNL",
        "outputId": "d301a2f4-f76f-401d-e292-6edd1b7c76af"
      },
      "execution_count": null,
      "outputs": [
        {
          "output_type": "stream",
          "name": "stdout",
          "text": [
            "The MSE is: 1.1863041762706832\n",
            "The R-squared is: 0.9390840768714258\n"
          ]
        },
        {
          "output_type": "execute_result",
          "data": {
            "text/plain": [
              "[<matplotlib.lines.Line2D at 0x7ea23a1c3820>]"
            ]
          },
          "metadata": {},
          "execution_count": 28
        },
        {
          "output_type": "display_data",
          "data": {
            "text/plain": [
              "<Figure size 1000x600 with 1 Axes>"
            ],
            "image/png": "[encoded data removed]"
          },
          "metadata": {}
        }
      ]
    },
    {
      "cell_type": "markdown",
      "source": [
        "## **RandomForest**"
      ],
      "metadata": {
        "id": "9P09fpp3BH6D"
      }
    },
    {
      "cell_type": "code",
      "source": [
        "## Lags for multiple predictors\n",
        "## suppose you want to create lags for the variable close\n",
        "import numpy as np\n",
        "vars = ['Close']\n",
        "l =5\n",
        "\n",
        "for col in vars:\n",
        "  lags = np.arange(1,l,1) ## middle value is number of lags\n",
        "  for lag in lags:\n",
        "    df[\"{}_Lag{}\".format(col, lag)] = df[col].transform(lambda x: x.shift(lag))"
      ],
      "metadata": {
        "id": "NLXAP12CBLH8"
      },
      "execution_count": null,
      "outputs": []
    },
    {
      "cell_type": "code",
      "source": [
        "## drop all variables not lagged except for the y_variable (CLOSE)\n",
        "rf_data = df.drop(['Open', 'High', 'Low', 'Adj Close', 'Volume'], axis = 1) ## inplace = True"
      ],
      "metadata": {
        "id": "aVaXM-dIBPOb"
      },
      "execution_count": null,
      "outputs": []
    },
    {
      "cell_type": "code",
      "source": [
        "rf_data.dropna(inplace = True)\n",
        "\n",
        "train = rf_data[:'2023-12-31']\n",
        "test = rf_data['2024-01-01':]\n",
        "\n",
        "X_train = train.drop(['Close'], axis = 1)\n",
        "y_train = train.Close\n",
        "X_test = test.drop(['Close'], axis =1)\n",
        "y_test = test.Close"
      ],
      "metadata": {
        "id": "RDfntVp3BROD"
      },
      "execution_count": null,
      "outputs": []
    },
    {
      "cell_type": "code",
      "source": [
        "from sklearn.ensemble import RandomForestRegressor\n",
        "\n",
        "rf = RandomForestRegressor()\n",
        "\n",
        "rf.fit(X_train, y_train)"
      ],
      "metadata": {
        "colab": {
          "base_uri": "https://localhost:8080/",
          "height": 75
        },
        "id": "w2ACcnyeBdSD",
        "outputId": "71585850-852c-4725-e4e3-c0ae3f32fe89"
      },
      "execution_count": null,
      "outputs": [
        {
          "output_type": "execute_result",
          "data": {
            "text/plain": [
              "RandomForestRegressor()"
            ],
            "text/html": [
              "<style>#sk-container-id-2 {color: black;background-color: white;}#sk-container-id-2 pre{padding: 0;}#sk-container-id-2 div.sk-toggleable {background-color: white;}#sk-container-id-2 label.sk-toggleable__label {cursor: pointer;display: block;width: 100%;margin-bottom: 0;padding: 0.3em;box-sizing: border-box;text-align: center;}#sk-container-id-2 label.sk-toggleable__label-arrow:before {content: \"▸\";float: left;margin-right: 0.25em;color: #696969;}#sk-container-id-2 label.sk-toggleable__label-arrow:hover:before {color: black;}#sk-container-id-2 div.sk-estimator:hover label.sk-toggleable__label-arrow:before {color: black;}#sk-container-id-2 div.sk-toggleable__content {max-height: 0;max-width: 0;overflow: hidden;text-align: left;background-color: #f0f8ff;}#sk-container-id-2 div.sk-toggleable__content pre {margin: 0.2em;color: black;border-radius: 0.25em;background-color: #f0f8ff;}#sk-container-id-2 input.sk-toggleable__control:checked~div.sk-toggleable__content {max-height: 200px;max-width: 100%;overflow: auto;}#sk-container-id-2 input.sk-toggleable__control:checked~label.sk-toggleable__label-arrow:before {content: \"▾\";}#sk-container-id-2 div.sk-estimator input.sk-toggleable__control:checked~label.sk-toggleable__label {background-color: #d4ebff;}#sk-container-id-2 div.sk-label input.sk-toggleable__control:checked~label.sk-toggleable__label {background-color: #d4ebff;}#sk-container-id-2 input.sk-hidden--visually {border: 0;clip: rect(1px 1px 1px 1px);clip: rect(1px, 1px, 1px, 1px);height: 1px;margin: -1px;overflow: hidden;padding: 0;position: absolute;width: 1px;}#sk-container-id-2 div.sk-estimator {font-family: monospace;background-color: #f0f8ff;border: 1px dotted black;border-radius: 0.25em;box-sizing: border-box;margin-bottom: 0.5em;}#sk-container-id-2 div.sk-estimator:hover {background-color: #d4ebff;}#sk-container-id-2 div.sk-parallel-item::after {content: \"\";width: 100%;border-bottom: 1px solid gray;flex-grow: 1;}#sk-container-id-2 div.sk-label:hover label.sk-toggleable__label {background-color: #d4ebff;}#sk-container-id-2 div.sk-serial::before {content: \"\";position: absolute;border-left: 1px solid gray;box-sizing: border-box;top: 0;bottom: 0;left: 50%;z-index: 0;}#sk-container-id-2 div.sk-serial {display: flex;flex-direction: column;align-items: center;background-color: white;padding-right: 0.2em;padding-left: 0.2em;position: relative;}#sk-container-id-2 div.sk-item {position: relative;z-index: 1;}#sk-container-id-2 div.sk-parallel {display: flex;align-items: stretch;justify-content: center;background-color: white;position: relative;}#sk-container-id-2 div.sk-item::before, #sk-container-id-2 div.sk-parallel-item::before {content: \"\";position: absolute;border-left: 1px solid gray;box-sizing: border-box;top: 0;bottom: 0;left: 50%;z-index: -1;}#sk-container-id-2 div.sk-parallel-item {display: flex;flex-direction: column;z-index: 1;position: relative;background-color: white;}#sk-container-id-2 div.sk-parallel-item:first-child::after {align-self: flex-end;width: 50%;}#sk-container-id-2 div.sk-parallel-item:last-child::after {align-self: flex-start;width: 50%;}#sk-container-id-2 div.sk-parallel-item:only-child::after {width: 0;}#sk-container-id-2 div.sk-dashed-wrapped {border: 1px dashed gray;margin: 0 0.4em 0.5em 0.4em;box-sizing: border-box;padding-bottom: 0.4em;background-color: white;}#sk-container-id-2 div.sk-label label {font-family: monospace;font-weight: bold;display: inline-block;line-height: 1.2em;}#sk-container-id-2 div.sk-label-container {text-align: center;}#sk-container-id-2 div.sk-container {/* jupyter's `normalize.less` sets `[hidden] { display: none; }` but bootstrap.min.css set `[hidden] { display: none !important; }` so we also need the `!important` here to be able to override the default hidden behavior on the sphinx rendered scikit-learn.org. See: https://github.com/scikit-learn/scikit-learn/issues/21755 */display: inline-block !important;position: relative;}#sk-container-id-2 div.sk-text-repr-fallback {display: none;}</style><div id=\"sk-container-id-2\" class=\"sk-top-container\"><div class=\"sk-text-repr-fallback\"><pre>RandomForestRegressor()</pre><b>In a Jupyter environment, please rerun this cell to show the HTML representation or trust the notebook. <br />On GitHub, the HTML representation is unable to render, please try loading this page with nbviewer.org.</b></div><div class=\"sk-container\" hidden><div class=\"sk-item\"><div class=\"sk-estimator sk-toggleable\"><input class=\"sk-toggleable__control sk-hidden--visually\" id=\"sk-estimator-id-2\" type=\"checkbox\" checked><label for=\"sk-estimator-id-2\" class=\"sk-toggleable__label sk-toggleable__label-arrow\">RandomForestRegressor</label><div class=\"sk-toggleable__content\"><pre>RandomForestRegressor()</pre></div></div></div></div></div>"
            ]
          },
          "metadata": {},
          "execution_count": 32
        }
      ]
    },
    {
      "cell_type": "code",
      "source": [
        "predictions = rf.predict(X_test)"
      ],
      "metadata": {
        "id": "dBaiKaNgCT7a"
      },
      "execution_count": null,
      "outputs": []
    },
    {
      "cell_type": "code",
      "source": [
        "print(f'The MSE is: {mean_squared_error(y_test, predictions, squared = False)}')\n",
        "print(f'The R-squared is: {r2_score(y_test, predictions)}')"
      ],
      "metadata": {
        "colab": {
          "base_uri": "https://localhost:8080/"
        },
        "id": "MnvzOukiCalK",
        "outputId": "d38c893d-c039-44e2-9611-51c897f2ba54"
      },
      "execution_count": null,
      "outputs": [
        {
          "output_type": "stream",
          "name": "stdout",
          "text": [
            "The MSE is: 1.3616922870479322\n",
            "The R-squared is: 0.9203826551504419\n"
          ]
        }
      ]
    },
    {
      "cell_type": "code",
      "source": [
        "## PREDICTION USING DAY BEFORE\n",
        "\n",
        "y_test_trimmed = y_test[:len(y_previous)]\n",
        "\n",
        "# Now calculate the MSE and R-squared\n",
        "mse = mean_squared_error(y_test_trimmed, y_previous, squared=False)\n",
        "r_squared = r2_score(y_test_trimmed, y_previous)\n",
        "\n",
        "# Print the results\n",
        "print(f'The MSE is: {mse}')\n",
        "print(f'The R-squared is: {r_squared}')"
      ],
      "metadata": {
        "colab": {
          "base_uri": "https://localhost:8080/"
        },
        "id": "h5TBogQU3b5e",
        "outputId": "84da85fb-e0e3-427b-89bc-d028b94857eb"
      },
      "execution_count": null,
      "outputs": [
        {
          "output_type": "stream",
          "name": "stdout",
          "text": [
            "The MSE is: 1.164062870146414\n",
            "The R-squared is: 0.938664452945072\n"
          ]
        }
      ]
    }
  ]
}